{
 "cells": [
  {
   "cell_type": "markdown",
   "id": "sunset-chrome",
   "metadata": {},
   "source": [
    "# Operator Probability"
   ]
  },
  {
   "cell_type": "markdown",
   "id": "satellite-consortium",
   "metadata": {},
   "source": [
    "### Author: Spencer Smith"
   ]
  },
  {
   "cell_type": "markdown",
   "id": "contrary-address",
   "metadata": {},
   "source": [
    "### Summary:"
   ]
  },
  {
   "cell_type": "markdown",
   "id": "remarkable-midnight",
   "metadata": {},
   "source": [
    "Can we reliably predict the probability that an operator's bid will be accepted to a given op?"
   ]
  },
  {
   "cell_type": "markdown",
   "id": "boolean-avenue",
   "metadata": {},
   "source": [
    "### Hypothesis:"
   ]
  },
  {
   "cell_type": "markdown",
   "id": "public-elephant",
   "metadata": {},
   "source": [
    "\"New and Ready\" operators struggle to be accepted to their first op (typical need-experience-to-get-experience problem) and will leave the platform out of frustration afer many failed bids. By suggesting ops to operators based on their bid acceptance probability, we can reduce operator frustration and decrease the likelihood that operators will quit prematurely."
   ]
  },
  {
   "cell_type": "markdown",
   "id": "stainless-portsmouth",
   "metadata": {},
   "source": [
    "### Value Proposition:"
   ]
  },
  {
   "cell_type": "markdown",
   "id": "failing-titanium",
   "metadata": {},
   "source": [
    "Increased revenue"
   ]
  },
  {
   "cell_type": "markdown",
   "id": "trained-favor",
   "metadata": {},
   "source": [
    "***"
   ]
  },
  {
   "cell_type": "markdown",
   "id": "hollow-lawyer",
   "metadata": {},
   "source": [
    "## Feature Selection"
   ]
  },
  {
   "cell_type": "markdown",
   "id": "unable-authentication",
   "metadata": {},
   "source": [
    "This is a list of the features we are considering to model our problem and the justification for each feature:"
   ]
  },
  {
   "cell_type": "markdown",
   "id": "legendary-habitat",
   "metadata": {},
   "source": [
    "## Target Feature: \n",
    "\n",
    "**is_accepted**: true/false (binary classification problem)\n",
    "\n",
    "- note: probability will be extracted from above result"
   ]
  },
  {
   "cell_type": "markdown",
   "id": "lovely-resistance",
   "metadata": {},
   "source": [
    "### Solid features:"
   ]
  },
  {
   "cell_type": "markdown",
   "id": "worse-springer",
   "metadata": {},
   "source": [
    "##### op_is_autofill: true/false"
   ]
  },
  {
   "cell_type": "markdown",
   "id": "clinical-welcome",
   "metadata": {},
   "source": [
    "- The autofill logic searches for bids (operators) with certain qualities, which means that an op's autofill status will affect the importance of other features belonging to an operator"
   ]
  },
  {
   "cell_type": "markdown",
   "id": "executed-collection",
   "metadata": {},
   "source": [
    "##### operator_reliability_rating: decimal"
   ]
  },
  {
   "cell_type": "markdown",
   "id": "featured-oracle",
   "metadata": {},
   "source": [
    "- Range is currently between 1 and 5, algorithm might handle data better if range is scaled between 0 and 1\n",
    "- This is purely speculation on my end, but the reliability rating looks to be more 'reliable' (no pun intended) than the operator's overall rating due to the noise generated from the operator quiz -- not to mention it's more visible"
   ]
  },
  {
   "cell_type": "markdown",
   "id": "swedish-compound",
   "metadata": {},
   "source": [
    "##### operator_is_in_business_labor_pool: true/false"
   ]
  },
  {
   "cell_type": "markdown",
   "id": "worth-better",
   "metadata": {},
   "source": [
    "- Operators that are \"favorites\" to a business will be first priority for openings"
   ]
  },
  {
   "cell_type": "markdown",
   "id": "referenced-upper",
   "metadata": {},
   "source": [
    "##### ops_completed_by_operator: whole number"
   ]
  },
  {
   "cell_type": "markdown",
   "id": "cutting-moderator",
   "metadata": {},
   "source": [
    "- Operators that have completed more ops have more experience"
   ]
  },
  {
   "cell_type": "markdown",
   "id": "certain-casino",
   "metadata": {},
   "source": [
    "##### has_schedule_conflict: true/false"
   ]
  },
  {
   "cell_type": "markdown",
   "id": "usual-distributor",
   "metadata": {},
   "source": [
    "- self-explanatory"
   ]
  },
  {
   "cell_type": "markdown",
   "id": "american-regular",
   "metadata": {},
   "source": [
    "### Possible, but questionable features:"
   ]
  },
  {
   "cell_type": "markdown",
   "id": "bizarre-department",
   "metadata": {},
   "source": [
    "##### accepted_bids_to_requested_bids_ratio: decimal"
   ]
  },
  {
   "cell_type": "markdown",
   "id": "forward-terrorism",
   "metadata": {},
   "source": [
    "- I am skeptical of this feature, as it depends too much on the exact moment during which it was measured and will change constantly"
   ]
  },
  {
   "cell_type": "markdown",
   "id": "southern-waters",
   "metadata": {},
   "source": [
    "##### unaccepted_ylp_operators_to_available_openings_ratio: decimal"
   ]
  },
  {
   "cell_type": "markdown",
   "id": "german-couple",
   "metadata": {},
   "source": [
    "- In short, if the op has two available openings, but three operators in the business ylp have not yet been accepted, will this affect operators who are not in the labor pool?\n",
    "- Similar issue to above feature, this feature depends heavily on timing and will be difficult to capture"
   ]
  },
  {
   "cell_type": "markdown",
   "id": "removable-butterfly",
   "metadata": {},
   "source": [
    "##### newness_of_business: ?"
   ]
  },
  {
   "cell_type": "markdown",
   "id": "capital-chester",
   "metadata": {},
   "source": [
    "- I actually think this would be a great feature, as I imagine that businesses who have been using our platform longer will eventually \"know\" the operators they want without needing to depend on our platform to find them\n",
    "- The question is how to best measure this feature. Number of ops posted is one option, as it does a fairly good job of capturing business activity. We could also use the number of days, weeks, or months that a business has been using our platform.\n",
    "- Decision: number of ops posted (whole number)"
   ]
  },
  {
   "cell_type": "markdown",
   "id": "vital-comparison",
   "metadata": {},
   "source": [
    "##### operator_overall_rating: decimal"
   ]
  },
  {
   "cell_type": "markdown",
   "id": "fitted-deposit",
   "metadata": {},
   "source": [
    "- Operator quiz feature, which gives operators a free five-star rating that is later deleted after they complete their first op, creates a good amount of noise in this feature"
   ]
  },
  {
   "cell_type": "markdown",
   "id": "taken-helen",
   "metadata": {},
   "source": [
    "***"
   ]
  },
  {
   "cell_type": "markdown",
   "id": "compact-conservation",
   "metadata": {},
   "source": [
    "## Import the Data"
   ]
  },
  {
   "cell_type": "code",
   "execution_count": 1,
   "id": "interior-corruption",
   "metadata": {},
   "outputs": [],
   "source": [
    "import numpy as np\n",
    "import pandas as pd"
   ]
  },
  {
   "cell_type": "code",
   "execution_count": 2,
   "id": "opponent-lesson",
   "metadata": {},
   "outputs": [],
   "source": [
    "df = pd.read_csv('operatorprobability.csv')"
   ]
  },
  {
   "cell_type": "code",
   "execution_count": 3,
   "id": "alert-zimbabwe",
   "metadata": {},
   "outputs": [
    {
     "data": {
      "text/html": [
       "<div>\n",
       "<style scoped>\n",
       "    .dataframe tbody tr th:only-of-type {\n",
       "        vertical-align: middle;\n",
       "    }\n",
       "\n",
       "    .dataframe tbody tr th {\n",
       "        vertical-align: top;\n",
       "    }\n",
       "\n",
       "    .dataframe thead th {\n",
       "        text-align: right;\n",
       "    }\n",
       "</style>\n",
       "<table border=\"1\" class=\"dataframe\">\n",
       "  <thead>\n",
       "    <tr style=\"text-align: right;\">\n",
       "      <th></th>\n",
       "      <th>op_is_autofill</th>\n",
       "      <th>operator_reliability_rating</th>\n",
       "      <th>operator_overall_rating</th>\n",
       "      <th>operator_ops_completed_count</th>\n",
       "      <th>ops_posted_by_business_count</th>\n",
       "      <th>is_in_business_labor_pool</th>\n",
       "      <th>is_accepted</th>\n",
       "    </tr>\n",
       "  </thead>\n",
       "  <tbody>\n",
       "    <tr>\n",
       "      <th>0</th>\n",
       "      <td>True</td>\n",
       "      <td>0.84</td>\n",
       "      <td>0.888086</td>\n",
       "      <td>0.230263</td>\n",
       "      <td>0.028457</td>\n",
       "      <td>False</td>\n",
       "      <td>False</td>\n",
       "    </tr>\n",
       "    <tr>\n",
       "      <th>1</th>\n",
       "      <td>True</td>\n",
       "      <td>0.84</td>\n",
       "      <td>0.888086</td>\n",
       "      <td>0.230263</td>\n",
       "      <td>0.280809</td>\n",
       "      <td>True</td>\n",
       "      <td>False</td>\n",
       "    </tr>\n",
       "    <tr>\n",
       "      <th>2</th>\n",
       "      <td>True</td>\n",
       "      <td>0.84</td>\n",
       "      <td>0.888086</td>\n",
       "      <td>0.230263</td>\n",
       "      <td>0.280809</td>\n",
       "      <td>True</td>\n",
       "      <td>False</td>\n",
       "    </tr>\n",
       "    <tr>\n",
       "      <th>3</th>\n",
       "      <td>True</td>\n",
       "      <td>0.84</td>\n",
       "      <td>0.888086</td>\n",
       "      <td>0.230263</td>\n",
       "      <td>0.097131</td>\n",
       "      <td>False</td>\n",
       "      <td>False</td>\n",
       "    </tr>\n",
       "    <tr>\n",
       "      <th>4</th>\n",
       "      <td>True</td>\n",
       "      <td>0.84</td>\n",
       "      <td>0.888086</td>\n",
       "      <td>0.230263</td>\n",
       "      <td>0.003998</td>\n",
       "      <td>False</td>\n",
       "      <td>False</td>\n",
       "    </tr>\n",
       "  </tbody>\n",
       "</table>\n",
       "</div>"
      ],
      "text/plain": [
       "   op_is_autofill  operator_reliability_rating  operator_overall_rating  \\\n",
       "0            True                         0.84                 0.888086   \n",
       "1            True                         0.84                 0.888086   \n",
       "2            True                         0.84                 0.888086   \n",
       "3            True                         0.84                 0.888086   \n",
       "4            True                         0.84                 0.888086   \n",
       "\n",
       "   operator_ops_completed_count  ops_posted_by_business_count  \\\n",
       "0                      0.230263                      0.028457   \n",
       "1                      0.230263                      0.280809   \n",
       "2                      0.230263                      0.280809   \n",
       "3                      0.230263                      0.097131   \n",
       "4                      0.230263                      0.003998   \n",
       "\n",
       "   is_in_business_labor_pool  is_accepted  \n",
       "0                      False        False  \n",
       "1                       True        False  \n",
       "2                       True        False  \n",
       "3                      False        False  \n",
       "4                      False        False  "
      ]
     },
     "execution_count": 3,
     "metadata": {},
     "output_type": "execute_result"
    }
   ],
   "source": [
    "df.head()"
   ]
  }
 ],
 "metadata": {
  "kernelspec": {
   "display_name": "Python 3",
   "language": "python",
   "name": "python3"
  },
  "language_info": {
   "codemirror_mode": {
    "name": "ipython",
    "version": 3
   },
   "file_extension": ".py",
   "mimetype": "text/x-python",
   "name": "python",
   "nbconvert_exporter": "python",
   "pygments_lexer": "ipython3",
   "version": "3.9.1"
  }
 },
 "nbformat": 4,
 "nbformat_minor": 5
}
