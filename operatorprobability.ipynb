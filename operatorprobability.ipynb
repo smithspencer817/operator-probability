{
 "cells": [
  {
   "cell_type": "markdown",
   "id": "external-script",
   "metadata": {},
   "source": [
    "# Operator Probability"
   ]
  },
  {
   "cell_type": "markdown",
   "id": "asian-softball",
   "metadata": {},
   "source": [
    "### Author: Spencer Smith"
   ]
  },
  {
   "cell_type": "markdown",
   "id": "renewable-cleveland",
   "metadata": {},
   "source": [
    "### Summary:"
   ]
  },
  {
   "cell_type": "markdown",
   "id": "blond-clinton",
   "metadata": {},
   "source": [
    "Can we reliably predict the probability that an operator's bid will be accepted to an op given features with high predictive power, such as:\n",
    "- **op_is_autofill**: true/false\n",
    "- **ops_completed_by_operator_count**: number\n",
    "- **reliability_rating**: float\n",
    "- etc."
   ]
  },
  {
   "cell_type": "markdown",
   "id": "least-functionality",
   "metadata": {},
   "source": [
    "### Hypothesis:"
   ]
  },
  {
   "cell_type": "markdown",
   "id": "based-atlantic",
   "metadata": {},
   "source": [
    "\"New and Ready\" operators struggle to be accepted to their first op (typical need-experience-to-get-experience problem) and will leave the platform out of frustration afer many failed bids. By suggesting ops to operators based on their bid acceptance probability, we can reduce operator frustration and decrease the likelihood that operators will quit prematurely."
   ]
  },
  {
   "cell_type": "markdown",
   "id": "three-latter",
   "metadata": {},
   "source": [
    "### Value Proposition:"
   ]
  },
  {
   "cell_type": "markdown",
   "id": "suitable-dallas",
   "metadata": {},
   "source": [
    "Increased revenue"
   ]
  },
  {
   "cell_type": "code",
   "execution_count": null,
   "id": "operational-validity",
   "metadata": {},
   "outputs": [],
   "source": []
  }
 ],
 "metadata": {
  "kernelspec": {
   "display_name": "Python 3",
   "language": "python",
   "name": "python3"
  },
  "language_info": {
   "codemirror_mode": {
    "name": "ipython",
    "version": 3
   },
   "file_extension": ".py",
   "mimetype": "text/x-python",
   "name": "python",
   "nbconvert_exporter": "python",
   "pygments_lexer": "ipython3",
   "version": "3.9.1"
  }
 },
 "nbformat": 4,
 "nbformat_minor": 5
}
